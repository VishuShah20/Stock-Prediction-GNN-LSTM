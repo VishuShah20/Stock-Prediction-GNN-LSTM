{
 "cells": [
  {
   "cell_type": "code",
   "execution_count": 11,
   "id": "2fb2307c",
   "metadata": {},
   "outputs": [],
   "source": [
    "import argparse\n",
    "import copy\n",
    "import numpy as np\n",
    "import os\n",
    "import random\n",
    "import tensorflow as tf\n",
    "\n",
    "from time import time\n",
    "try:\n",
    "    from tensorflow.python.ops.nn_ops import leaky_relu\n",
    "except ImportError:\n",
    "    from tensorflow.python.framework import ops\n",
    "    from tensorflow.python.ops import math_ops\n",
    "\n",
    "\n",
    "    def leaky_relu(features, alpha=0.2, name=None):\n",
    "        with ops.name_scope(name, \"LeakyRelu\", [features, alpha]):\n",
    "            features = ops.convert_to_tensor(features, name=\"features\")\n",
    "            alpha = ops.convert_to_tensor(alpha, name=\"alpha\")\n",
    "            return math_ops.maximum(alpha * features, features)\n",
    "\n",
    "from load_data import load_EOD_data\n",
    "from evaluator import evaluate\n"
   ]
  },
  {
   "cell_type": "code",
   "execution_count": 51,
   "id": "72344891",
   "metadata": {},
   "outputs": [],
   "source": [
    "class RankLSTM:\n",
    "    def __init__(self, data_path, market_name, tickers_fname, parameters,\n",
    "                 steps=1, epochs=50, batch_size=None, gpu=False):\n",
    "        self.data_path = data_path\n",
    "        self.market_name = market_name\n",
    "        self.tickers_fname = tickers_fname\n",
    "        # load data\n",
    "        self.tickers = np.genfromtxt(tickers_fname,\n",
    "                                     dtype=str, delimiter='\\t', skip_header=False)\n",
    "        ### DEBUG\n",
    "        # self.tickers = self.tickers[0: 10]\n",
    "        print('#tickers selected:', len(self.tickers))\n",
    "        self.eod_data, self.mask_data, self.gt_data, self.price_data = \\\n",
    "            load_EOD_data(data_path, market_name, self.tickers, steps)\n",
    "\n",
    "        self.parameters = copy.copy(parameters)\n",
    "        self.steps = steps\n",
    "        self.epochs = epochs\n",
    "        if batch_size is None:\n",
    "            self.batch_size = len(self.tickers)\n",
    "        else:\n",
    "            self.batch_size = batch_size\n",
    "\n",
    "        self.valid_index = 756\n",
    "        self.test_index = 1008\n",
    "        self.trade_dates = self.mask_data.shape[1]\n",
    "        self.fea_dim = 5\n",
    "\n",
    "        self.gpu = gpu\n",
    "\n",
    "    def get_batch(self, offset=None):\n",
    "        if offset is None:\n",
    "            offset = random.randrange(0, self.valid_index)\n",
    "        seq_len = self.parameters['seq']\n",
    "        mask_batch = self.mask_data[:, offset: offset + seq_len + self.steps]\n",
    "        mask_batch = np.min(mask_batch, axis=1)\n",
    "        return self.eod_data[:, offset:offset + seq_len, :], \\\n",
    "               np.expand_dims(mask_batch, axis=1), \\\n",
    "               np.expand_dims(\n",
    "                   self.price_data[:, offset + seq_len - 1], axis=1\n",
    "               ), \\\n",
    "               np.expand_dims(\n",
    "                   self.gt_data[:, offset + seq_len + self.steps - 1], axis=1\n",
    "               )\n",
    "\n",
    "    def train(self):\n",
    "        if self.gpu == True:\n",
    "            device_name = '/gpu:0'\n",
    "        else:\n",
    "            device_name = '/cpu:0'\n",
    "        print('device name:', device_name)\n",
    "        with tf.device(device_name):\n",
    "            tf.compat.v1.reset_default_graph() \n",
    "\n",
    "            ground_truth = tf.compat.v1.placeholder(tf.float32, [self.batch_size, 1])\n",
    "            mask = tf.compat.v1.placeholder(tf.float32, [self.batch_size, 1])\n",
    "            feature = tf.compat.v1.placeholder(tf.float32,\n",
    "                [self.batch_size, self.parameters['seq'], self.fea_dim])\n",
    "            base_price = tf.compat.v1.placeholder(tf.float32, [self.batch_size, 1])\n",
    "            all_one = tf.ones([self.batch_size, 1], dtype=tf.float32)\n",
    "\n",
    "            lstm_cell = tf.compat.v1.nn.rnn_cell.BasicLSTMCell(\n",
    "                self.parameters['unit']\n",
    "            )\n",
    "\n",
    "            initial_state = lstm_cell.zero_state(self.batch_size,\n",
    "                                                 dtype=tf.float32)\n",
    "            \n",
    "            outputs, _ = tf.compat.v1.nn.dynamic_rnn(\n",
    "                lstm_cell, feature, dtype=tf.float32,\n",
    "                initial_state=initial_state\n",
    "            )\n",
    "\n",
    "            seq_emb = outputs[:, -1, :]\n",
    "            # One hidden layer\n",
    "            prediction = tf.compat.v1.layers.dense(\n",
    "                seq_emb, units=1, activation=leaky_relu, name='reg_fc',\n",
    "                kernel_initializer=tf.compat.v1.glorot_uniform_initializer()\n",
    "            )\n",
    "\n",
    "            return_ratio = tf.compat.v1.div(tf.compat.v1.subtract(prediction, base_price), base_price)\n",
    "            reg_loss = tf.compat.v1.losses.mean_squared_error(\n",
    "                ground_truth, return_ratio, weights=mask\n",
    "            )\n",
    "            \n",
    "            print('ground truth = ', ground_truth.shape)\n",
    "            print('mask = ',mask.shape)\n",
    "            print('feature = ',feature.shape)\n",
    "            print('base price = ',base_price.shape)\n",
    "            print('all one = ', all_one.shape)\n",
    "            #print('lstm cell = ', lstm_cell.shape)\n",
    "            print('outputs = ',outputs.shape)\n",
    "            print('seq emb = ', seq_emb.shape)\n",
    "            print('prediction = ',prediction.shape)\n",
    "            print('return ration = ', return_ratio.shape)\n",
    "            \n",
    "            \n",
    "            "
   ]
  },
  {
   "cell_type": "code",
   "execution_count": 52,
   "id": "3ea93f3f",
   "metadata": {},
   "outputs": [
    {
     "name": "stdout",
     "output_type": "stream",
     "text": [
      "#tickers selected: 1026\n",
      "single EOD data shape: (1245, 6)\n"
     ]
    }
   ],
   "source": [
    "if __name__ == '__main__':\n",
    "    \n",
    "    parameters = {'seq': int(16), 'unit': int(64), 'lr': float(0.001),\n",
    "                  'alpha': float(1)}\n",
    "    \n",
    "    rank_LSTM = RankLSTM(\n",
    "        data_path='2013-01-01',\n",
    "        market_name='NASDAQ',\n",
    "        tickers_fname='NASDAQ_tickers_qualify_dr-0.98_min-5_smooth.csv',\n",
    "        parameters=parameters,\n",
    "        steps=1, epochs=50, batch_size=None, gpu=False\n",
    "    )"
   ]
  },
  {
   "cell_type": "code",
   "execution_count": 53,
   "id": "28624171",
   "metadata": {},
   "outputs": [
    {
     "name": "stdout",
     "output_type": "stream",
     "text": [
      "device name: /cpu:0\n",
      "ground truth =  (1026, 1)\n",
      "mask =  (1026, 1)\n",
      "feature =  (1026, 4, 5)\n",
      "base price =  (1026, 1)\n",
      "all one =  (1026, 1)\n",
      "outputs =  (1026, 4, 64)\n",
      "seq emb =  (1026, 64)\n",
      "prediction =  (1026, 1)\n",
      "return ration =  (1026, 1)\n"
     ]
    },
    {
     "name": "stderr",
     "output_type": "stream",
     "text": [
      "/tmp/ipykernel_3382/4264099170.py:62: UserWarning: `tf.nn.rnn_cell.BasicLSTMCell` is deprecated and will be removed in a future version. This class is equivalent as `tf.keras.layers.LSTMCell`, and will be replaced by that in Tensorflow 2.0.\n",
      "  lstm_cell = tf.compat.v1.nn.rnn_cell.BasicLSTMCell(\n",
      "/tmp/ipykernel_3382/4264099170.py:75: UserWarning: `tf.layers.dense` is deprecated and will be removed in a future version. Please use `tf.keras.layers.Dense` instead.\n",
      "  prediction = tf.compat.v1.layers.dense(\n"
     ]
    }
   ],
   "source": [
    "pred_all = rank_LSTM.train()"
   ]
  },
  {
   "cell_type": "code",
   "execution_count": null,
   "id": "3856f61d",
   "metadata": {},
   "outputs": [],
   "source": []
  }
 ],
 "metadata": {
  "kernelspec": {
   "display_name": "Python 3 (ipykernel)",
   "language": "python",
   "name": "python3"
  },
  "language_info": {
   "codemirror_mode": {
    "name": "ipython",
    "version": 3
   },
   "file_extension": ".py",
   "mimetype": "text/x-python",
   "name": "python",
   "nbconvert_exporter": "python",
   "pygments_lexer": "ipython3",
   "version": "3.9.7"
  }
 },
 "nbformat": 4,
 "nbformat_minor": 5
}
